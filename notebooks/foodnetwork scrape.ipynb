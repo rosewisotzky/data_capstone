{
 "cells": [
  {
   "cell_type": "code",
   "execution_count": null,
   "id": "bc98ed07",
   "metadata": {},
   "outputs": [],
   "source": [
    "import requests\n",
    "from bs4 import BeautifulSoup as BS\n",
    "import pandas as pd\n",
    "import re\n",
    "import time\n",
    "from selenium import webdriver\n",
    "from selenium.webdriver.common.by import By\n",
    "from selenium.webdriver.support.ui import WebDriverWait\n",
    "from selenium.webdriver.support import expected_conditions as EC"
   ]
  },
  {
   "cell_type": "code",
   "execution_count": null,
   "id": "ade924aa",
   "metadata": {},
   "outputs": [],
   "source": [
    "URL = 'https://www.foodnetwork.com/recipes/recipes-a-z/u'\n",
    "response = requests.get(URL)\n",
    "soup = BS(response.text)\n",
    "print(soup.prettify())"
   ]
  },
  {
   "cell_type": "code",
   "execution_count": null,
   "id": "ffb6cfad",
   "metadata": {},
   "outputs": [],
   "source": [
    "link_items = soup.findAll('li', attrs={'class':'m-PromoList__a-ListItem'})"
   ]
  },
  {
   "cell_type": "code",
   "execution_count": null,
   "id": "b504f220",
   "metadata": {},
   "outputs": [],
   "source": [
    "a_items = [x.find('a') for x in link_items]"
   ]
  },
  {
   "cell_type": "code",
   "execution_count": null,
   "id": "501f5604",
   "metadata": {},
   "outputs": [],
   "source": [
    "a_items"
   ]
  },
  {
   "cell_type": "code",
   "execution_count": null,
   "id": "8dd1b4be",
   "metadata": {},
   "outputs": [],
   "source": [
    "a_links = [x['href'] for x in a_items]"
   ]
  },
  {
   "cell_type": "code",
   "execution_count": null,
   "id": "7b74052d",
   "metadata": {},
   "outputs": [],
   "source": [
    "links = []\n",
    "for link in a_links:\n",
    "    new_link = 'https:' + link\n",
    "    links.append(new_link)"
   ]
  },
  {
   "cell_type": "code",
   "execution_count": null,
   "id": "3b5f2e53",
   "metadata": {},
   "outputs": [],
   "source": [
    "links"
   ]
  },
  {
   "cell_type": "code",
   "execution_count": null,
   "id": "600f589a",
   "metadata": {},
   "outputs": [],
   "source": [
    "titles = []\n",
    "ratings = []\n",
    "ingredients = []\n",
    "reviews = []\n",
    "def page_scrape(urls):\n",
    "    for url in urls:\n",
    "        driver = webdriver.Chrome()\n",
    "        driver.get(url)\n",
    "        try:\n",
    "            elem = WebDriverWait(driver, 30).until(EC.presence_of_element_located((By.CLASS_NAME, 'sr-only')))\n",
    "            page_source = driver.page_source      \n",
    "        finally: \n",
    "            driver.quit()\n",
    "        soup = BS(page_source, features=\"html.parser\")\n",
    "        \n",
    "        rating = soup.find('span', attrs={'class':'sr-only'}).text\n",
    "        ratings.append(rating) \n",
    "        \n",
    "        title = soup.find('span', attrs={'class':'o-AssetTitle__a-HeadlineText'}).text\n",
    "        titles.append(title)\n",
    "        \n",
    "        review = soup.find('h2', attrs={'class':'reviews-ct'}).text\n",
    "        reviews.append(review)\n",
    "        \n",
    "        ingredients_str = ''\n",
    "        ingredients_list = soup.findAll('span', attrs={'class':'o-Ingredients__a-Ingredient--CheckboxLabel'})\n",
    "        for ing in ingredients_list:\n",
    "            ingredients_str += ' ' + ing.text\n",
    "        ingredients.append(ingredients_str)\n",
    "        "
   ]
  },
  {
   "cell_type": "code",
   "execution_count": null,
   "id": "7bfaecf1",
   "metadata": {},
   "outputs": [],
   "source": [
    "# page_scrape('https://www.foodnetwork.com/recipes/a-bologna-calamari-scallops-and-clams-with-roasted-fingerlings-and-arugula-salad-recipe-2040576')"
   ]
  },
  {
   "cell_type": "code",
   "execution_count": null,
   "id": "15758405",
   "metadata": {},
   "outputs": [],
   "source": [
    "ratings"
   ]
  },
  {
   "cell_type": "code",
   "execution_count": null,
   "id": "b3b0117d",
   "metadata": {},
   "outputs": [],
   "source": [
    "short_list = links[0:50]\n",
    "short_list"
   ]
  },
  {
   "cell_type": "markdown",
   "id": "59bbb795",
   "metadata": {},
   "source": [
    "note to self: need to handle the instance of when there is no review...but we'll see if the list length differs not sure how WAIT behaves"
   ]
  },
  {
   "cell_type": "code",
   "execution_count": null,
   "id": "fa01e1e7",
   "metadata": {},
   "outputs": [],
   "source": [
    "page_scrape(links)"
   ]
  },
  {
   "cell_type": "code",
   "execution_count": null,
   "id": "5ddd8a06",
   "metadata": {},
   "outputs": [],
   "source": [
    "ingredients"
   ]
  },
  {
   "cell_type": "code",
   "execution_count": null,
   "id": "58854fa5",
   "metadata": {},
   "outputs": [],
   "source": [
    "titles"
   ]
  },
  {
   "cell_type": "code",
   "execution_count": null,
   "id": "05730e03",
   "metadata": {},
   "outputs": [],
   "source": [
    "len(ingredients)"
   ]
  },
  {
   "cell_type": "code",
   "execution_count": null,
   "id": "25ba764d",
   "metadata": {},
   "outputs": [],
   "source": [
    "len(ratings)"
   ]
  },
  {
   "cell_type": "code",
   "execution_count": null,
   "id": "0fcdfb50",
   "metadata": {},
   "outputs": [],
   "source": [
    "len(reviews)"
   ]
  },
  {
   "cell_type": "code",
   "execution_count": null,
   "id": "269ac783",
   "metadata": {},
   "outputs": [],
   "source": [
    "links_split = links[81::]\n",
    "links_split\n",
    "links = links[0:79] + links_split"
   ]
  },
  {
   "cell_type": "code",
   "execution_count": null,
   "id": "103f2282",
   "metadata": {},
   "outputs": [],
   "source": [
    "links"
   ]
  },
  {
   "cell_type": "code",
   "execution_count": null,
   "id": "ae9ea02d",
   "metadata": {},
   "outputs": [],
   "source": [
    "titles = []\n",
    "ratings = []\n",
    "ingredients = []\n",
    "reviews = []\n",
    "page_scrape(links)"
   ]
  },
  {
   "cell_type": "code",
   "execution_count": null,
   "id": "2d8d93ad",
   "metadata": {},
   "outputs": [],
   "source": [
    "titles"
   ]
  },
  {
   "cell_type": "code",
   "execution_count": null,
   "id": "5c54cd2c",
   "metadata": {},
   "outputs": [],
   "source": [
    "len(titles)"
   ]
  },
  {
   "cell_type": "code",
   "execution_count": null,
   "id": "fcb8f770",
   "metadata": {},
   "outputs": [],
   "source": [
    "len(links)"
   ]
  },
  {
   "cell_type": "code",
   "execution_count": null,
   "id": "8d945607",
   "metadata": {},
   "outputs": [],
   "source": [
    "u_recipes_fn = pd.DataFrame({'title':titles,\n",
    "                              'link': links,\n",
    "                             'ingredients': ingredients,\n",
    "                             'rating': ratings,\n",
    "                              'reviews':reviews})"
   ]
  },
  {
   "cell_type": "code",
   "execution_count": null,
   "id": "da6dbfff",
   "metadata": {},
   "outputs": [],
   "source": [
    "u_recipes_fn"
   ]
  },
  {
   "cell_type": "code",
   "execution_count": null,
   "id": "d8dc9e54",
   "metadata": {},
   "outputs": [],
   "source": [
    "u_recipes_fn.to_csv('../data/u_recipes_fn.csv')"
   ]
  },
  {
   "cell_type": "code",
   "execution_count": null,
   "id": "3135474e",
   "metadata": {},
   "outputs": [],
   "source": []
  }
 ],
 "metadata": {
  "kernelspec": {
   "display_name": "Python 3 (ipykernel)",
   "language": "python",
   "name": "python3"
  },
  "language_info": {
   "codemirror_mode": {
    "name": "ipython",
    "version": 3
   },
   "file_extension": ".py",
   "mimetype": "text/x-python",
   "name": "python",
   "nbconvert_exporter": "python",
   "pygments_lexer": "ipython3",
   "version": "3.11.5"
  }
 },
 "nbformat": 4,
 "nbformat_minor": 5
}
