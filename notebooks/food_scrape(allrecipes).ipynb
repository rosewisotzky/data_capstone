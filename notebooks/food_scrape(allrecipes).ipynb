{
 "cells": [
  {
   "cell_type": "code",
   "execution_count": null,
   "id": "e39b1369",
   "metadata": {},
   "outputs": [],
   "source": [
    "import requests\n",
    "from bs4 import BeautifulSoup as BS\n",
    "import pandas as pd\n",
    "import re"
   ]
  },
  {
   "cell_type": "markdown",
   "id": "5a08ac08",
   "metadata": {},
   "source": [
    "function to grab all of the links on all recipes 'theme' page (from the cards)"
   ]
  },
  {
   "cell_type": "code",
   "execution_count": null,
   "id": "6659e447",
   "metadata": {},
   "outputs": [],
   "source": [
    "\n",
    "def get_links(url):\n",
    "    URL = url\n",
    "    response = requests.get(URL)\n",
    "    soup = BS(response.text)\n",
    "    explore = soup.find('div', attrs = {'class':'loc fixedContent'})\n",
    "    all_a = explore.findAll('a', attrs={'class':'comp'})\n",
    "    links = [a['href'] for a in all_a]\n",
    "    return links\n",
    "    "
   ]
  },
  {
   "cell_type": "code",
   "execution_count": null,
   "id": "6ade40d4",
   "metadata": {},
   "outputs": [],
   "source": [
    "brekkie_links = get_links('https://www.allrecipes.com/recipes/78/breakfast-and-brunch/')\n",
    "dinner_links = get_links('https://www.allrecipes.com/recipes/17562/dinner/')\n",
    "lunch_links = get_links('https://www.allrecipes.com/recipes/17561/lunch/')"
   ]
  },
  {
   "cell_type": "code",
   "execution_count": null,
   "id": "db86527d",
   "metadata": {
    "scrolled": true
   },
   "outputs": [],
   "source": [
    "brekkie_links"
   ]
  },
  {
   "cell_type": "code",
   "execution_count": null,
   "id": "45bb86fa",
   "metadata": {},
   "outputs": [],
   "source": [
    "dinner_links"
   ]
  },
  {
   "cell_type": "markdown",
   "id": "73ecf1e3",
   "metadata": {},
   "source": [
    "now let's test to see that we can grab the ingredients!"
   ]
  },
  {
   "cell_type": "code",
   "execution_count": null,
   "id": "d7512c97",
   "metadata": {
    "scrolled": false
   },
   "outputs": [],
   "source": [
    "URL = 'https://www.allrecipes.com/spicy-canned-salmon-salad-rice-bowl-recipe-7558696'\n",
    "response = requests.get(URL)\n",
    "soup = BS(response.text)\n",
    "ingredient = soup.find('div', attrs={'id':'mntl-structured-ingredients_1-0'})\n",
    "ingredient_list = ingredient.findAll('p')\n",
    "ing_list = ''\n",
    "for item in ingredient_list:\n",
    "    ing_list += item.text + ', '\n",
    "ing_list"
   ]
  },
  {
   "cell_type": "markdown",
   "id": "cd7e4107",
   "metadata": {},
   "source": [
    "now i'm going to create some empty lists, and write a function that will scrape the desired elements and put the text in those lists"
   ]
  },
  {
   "cell_type": "code",
   "execution_count": null,
   "id": "7a72102a",
   "metadata": {},
   "outputs": [],
   "source": [
    "ratings = []\n",
    "titles = []\n",
    "ingredients = []\n",
    "reviews = []\n",
    "    \n",
    "\n",
    "def allrecipe_scrape(urls):\n",
    "    for url in urls:\n",
    "        URL = url\n",
    "        response = requests.get(URL)\n",
    "        soup = BS(response.text)\n",
    "        \n",
    "        rating = soup.find('div', attrs={'id':'mntl-recipe-review-bar__rating_1-0'})\n",
    "        ratings.append(rating)\n",
    "\n",
    "        title = soup.find('h1', attrs={'id':'article-heading_1-0'})\n",
    "        titles.append(title.text)\n",
    "        \n",
    "        ingredient = soup.find('div', attrs={'id':'mntl-structured-ingredients_1-0'})\n",
    "        if ingredient:\n",
    "            ingredient_list = ingredient.findAll('p')\n",
    "            ing_list = ''\n",
    "            for item in ingredient_list:\n",
    "                ing_list += item.text + ', '\n",
    "            ingredients.append(ing_list)\n",
    "        else:\n",
    "            ingredients.append('none')\n",
    "        \n",
    "        review = soup.find('div', attrs={'id':'mntl-recipe-review-bar__rating-count_1-0'})\n",
    "        if review:\n",
    "            reviews.append(review.text)\n",
    "        else:\n",
    "            reviews.append('no reviews available')\n",
    "        \n"
   ]
  },
  {
   "cell_type": "code",
   "execution_count": null,
   "id": "52f709f6",
   "metadata": {},
   "outputs": [],
   "source": [
    "allrecipe_scrape(dinner_links)"
   ]
  },
  {
   "cell_type": "code",
   "execution_count": null,
   "id": "3e9171b1",
   "metadata": {},
   "outputs": [],
   "source": [
    "allrecipe_scrape(brekkie_links)"
   ]
  },
  {
   "cell_type": "code",
   "execution_count": null,
   "id": "2cdfea1a",
   "metadata": {},
   "outputs": [],
   "source": [
    "allrecipe_scrape(lunch_links)"
   ]
  },
  {
   "cell_type": "code",
   "execution_count": null,
   "id": "cb49827c",
   "metadata": {},
   "outputs": [],
   "source": [
    "for link in brekkie_links:\n",
    "    dinner_links.append(link)"
   ]
  },
  {
   "cell_type": "code",
   "execution_count": null,
   "id": "42f5cbe2",
   "metadata": {},
   "outputs": [],
   "source": [
    "for link in lunch_links:\n",
    "    dinner_links.append(link)"
   ]
  },
  {
   "cell_type": "code",
   "execution_count": null,
   "id": "cc9727eb",
   "metadata": {},
   "outputs": [],
   "source": [
    "dinner_links"
   ]
  },
  {
   "cell_type": "code",
   "execution_count": null,
   "id": "b73a1e9d",
   "metadata": {},
   "outputs": [],
   "source": [
    "more_titles = []\n",
    "for title in titles:\n",
    "       more_titles.append(title[1:])"
   ]
  },
  {
   "cell_type": "code",
   "execution_count": null,
   "id": "051669aa",
   "metadata": {
    "scrolled": false
   },
   "outputs": [],
   "source": [
    "more_titles"
   ]
  },
  {
   "cell_type": "code",
   "execution_count": null,
   "id": "8f213203",
   "metadata": {},
   "outputs": [],
   "source": [
    "ratings = [str(x) for x in ratings]\n",
    "reviews = [str(x) for x in reviews]\n"
   ]
  },
  {
   "cell_type": "code",
   "execution_count": null,
   "id": "409af088",
   "metadata": {
    "scrolled": true
   },
   "outputs": [],
   "source": [
    "len(more_titles)\n"
   ]
  },
  {
   "cell_type": "code",
   "execution_count": null,
   "id": "7e6400a0",
   "metadata": {
    "scrolled": false
   },
   "outputs": [],
   "source": [
    "ingredients"
   ]
  },
  {
   "cell_type": "code",
   "execution_count": null,
   "id": "f5ee5e13",
   "metadata": {},
   "outputs": [],
   "source": [
    "len(ratings)"
   ]
  },
  {
   "cell_type": "code",
   "execution_count": null,
   "id": "766e8b55",
   "metadata": {
    "scrolled": true
   },
   "outputs": [],
   "source": [
    "len(dinner_links)"
   ]
  },
  {
   "cell_type": "code",
   "execution_count": null,
   "id": "624d5610",
   "metadata": {
    "scrolled": true
   },
   "outputs": [],
   "source": [
    "recipe_test = pd.DataFrame({'title':more_titles,\n",
    "                             'rating':ratings,\n",
    "                             'url': dinner_links,\n",
    "                             'ingredients':ingredients,\n",
    "                             'reviews':reviews\n",
    "                               })\n"
   ]
  },
  {
   "cell_type": "code",
   "execution_count": null,
   "id": "27d98f38",
   "metadata": {},
   "outputs": [],
   "source": [
    "recipe_test"
   ]
  },
  {
   "cell_type": "code",
   "execution_count": null,
   "id": "72ad9dcf",
   "metadata": {},
   "outputs": [],
   "source": [
    "recipe_test['rating'] = recipe_test['rating'].str.extract('(\\d[.]\\d)')"
   ]
  },
  {
   "cell_type": "code",
   "execution_count": null,
   "id": "2cf764af",
   "metadata": {},
   "outputs": [],
   "source": [
    "recipe_test['reviews'] = recipe_test['reviews'].astype(str)"
   ]
  },
  {
   "cell_type": "code",
   "execution_count": null,
   "id": "a09c5f48",
   "metadata": {},
   "outputs": [],
   "source": [
    "recipe_test['reviews'] = recipe_test['reviews'].str.replace(',', '')"
   ]
  },
  {
   "cell_type": "code",
   "execution_count": null,
   "id": "66bd5dbb",
   "metadata": {},
   "outputs": [],
   "source": [
    "recipe_test['reviews'] = recipe_test['reviews'].str.extract('(\\d+)')"
   ]
  },
  {
   "cell_type": "code",
   "execution_count": null,
   "id": "5abfdfcf",
   "metadata": {},
   "outputs": [],
   "source": [
    "recipe_test['rating'] = recipe_test['rating'].astype(float)"
   ]
  },
  {
   "cell_type": "code",
   "execution_count": null,
   "id": "d9479b39",
   "metadata": {},
   "outputs": [],
   "source": [
    "recipe_test['reviews'] = recipe_test['reviews'].astype(float)"
   ]
  },
  {
   "cell_type": "code",
   "execution_count": null,
   "id": "bebebb6b",
   "metadata": {},
   "outputs": [],
   "source": [
    "recipe_test['source'] = 'allrecipes'"
   ]
  },
  {
   "cell_type": "markdown",
   "id": "d801244d",
   "metadata": {},
   "source": [
    "options: pick handful of ingredients and see if it appears in string. protein, veg, spice. \n",
    "         pull out ingredient, not amount, create set for ingredients, create column for each ingredient that contains bool for dish"
   ]
  },
  {
   "cell_type": "code",
   "execution_count": null,
   "id": "4efcface",
   "metadata": {},
   "outputs": [],
   "source": [
    "recipe_test['ingredients'] = recipe_test['ingredients'].str.replace('pounds', '')\n",
    "recipe_test['ingredients'] = recipe_test['ingredients'].str.replace(' or more as needed', '')\n",
    "recipe_test['ingredients'] = recipe_test['ingredients'].str.replace(' Kraft ', '')\n",
    "\n",
    "recipe_test['ingredients'] = recipe_test['ingredients'].str.replace(' or ', '')\n",
    "recipe_test['ingredients'] = recipe_test['ingredients'].str.replace(' to cover ', '')\n",
    "recipe_test['ingredients'] = recipe_test['ingredients'].str.replace(' to ', '')\n",
    "recipe_test['ingredients'] = recipe_test['ingredients'].str.replace('inch', ' ')\n",
    "recipe_test['ingredients'] = recipe_test['ingredients'].str.replace('thick', ' ')\n",
    "recipe_test['ingredients'] = recipe_test['ingredients'].str.replace('at room temperature', '')\n",
    "recipe_test['ingredients'] = recipe_test['ingredients'].str.replace('peeled', '')\n",
    "recipe_test['ingredients'] = recipe_test['ingredients'].str.replace('diced', '')\n",
    "recipe_test['ingredients'] = recipe_test['ingredients'].str.replace('drained', '')\n",
    "recipe_test['ingredients'] = recipe_test['ingredients'].str.replace(' ounces', '')\n",
    "recipe_test['ingredients'] = recipe_test['ingredients'].str.replace(' to taste ', '')\n",
    "recipe_test['ingredients'] = recipe_test['ingredients'].str.replace('taste', '')\n",
    "recipe_test['ingredients'] = recipe_test['ingredients'].str.replace('divided', '')\n",
    "recipe_test['ingredients'] = recipe_test['ingredients'].str.replace('tablespoons', '')\n",
    "recipe_test['ingredients'] = recipe_test['ingredients'].str.replace('cups', '')\n",
    "recipe_test['ingredients'] = recipe_test['ingredients'].str.replace('teaspoons', '')\n",
    "recipe_test['ingredients'] = recipe_test['ingredients'].str.replace('cup', '')\n",
    "recipe_test['ingredients'] = recipe_test['ingredients'].str.replace('ounce', '')\n",
    "recipe_test['ingredients'] = recipe_test['ingredients'].str.replace('pound', '')\n",
    "recipe_test['ingredients'] = recipe_test['ingredients'].str.replace('tablespoon', '')\n",
    "recipe_test['ingredients'] = recipe_test['ingredients'].str.replace('teaspoon', '')\n",
    "recipe_test['ingredients'] = recipe_test['ingredients'].str.replace('package', '')\n",
    "recipe_test['ingredients'] = recipe_test['ingredients'].str.replace('uncooked', '')\n",
    "recipe_test['ingredients'] = recipe_test['ingredients'].str.replace(' and ', ' ')\n",
    "recipe_test['ingredients'] = recipe_test['ingredients'].str.replace('chopped', '')\n",
    "recipe_test['ingredients'] = recipe_test['ingredients'].str.replace('taste ', '')\n",
    "recipe_test['ingredients'] = recipe_test['ingredients'].str.replace('more', '')\n",
    "recipe_test['ingredients'] = recipe_test['ingredients'].str.replace('sliced', '')\n",
    "recipe_test['ingredients'] = recipe_test['ingredients'].str.replace('bag', '')\n",
    "recipe_test['ingredients'] = recipe_test['ingredients'].str.replace('medium', '')\n",
    "recipe_test['ingredients'] = recipe_test['ingredients'].str.replace('large', '')\n",
    "recipe_test['ingredients'] = recipe_test['ingredients'].str.replace('small', '')\n",
    "recipe_test['ingredients'] = recipe_test['ingredients'].str.replace('peeled', '')\n",
    "recipe_test['ingredients'] = recipe_test['ingredients'].str.replace('left out overnight', '')\n",
    "recipe_test['ingredients'] = recipe_test['ingredients'].str.replace('cut into  chunks', '')\n",
    "recipe_test['ingredients'] = recipe_test['ingredients'].str.replace('cut into  pieces', '')\n",
    "recipe_test['ingredients'] = recipe_test['ingredients'].str.replace('cut into bite sized pieces', '')\n",
    "\n",
    "recipe_test['ingredients'] = recipe_test['ingredients'].str.replace('cubed', '')\n",
    "recipe_test['ingredients'] = recipe_test['ingredients'].str.replace(' sliced ', '')\n",
    "\n",
    "\n",
    "recipe_test['ingredients'] = recipe_test['ingredients'].str.replace('cans', '')\n",
    "recipe_test['ingredients'] = recipe_test['ingredients'].str.replace('can', '')\n",
    "\n",
    "recipe_test['ingredients'] = recipe_test['ingredients'].str.replace(' as ', '')\n",
    "recipe_test['ingredients'] = recipe_test['ingredients'].str.replace('needed', '')\n",
    "recipe_test['ingredients'] = recipe_test['ingredients'].str.replace('about', '')\n",
    "recipe_test['ingredients'] = recipe_test['ingredients'].str.replace('finely', '')\n",
    "recipe_test['ingredients'] = recipe_test['ingredients'].str.replace('chopped', '')\n",
    "recipe_test['ingredients'] = recipe_test['ingredients'].str.replace('cut into thin strips', '')\n",
    "\n",
    "recipe_test['ingredients'] = recipe_test['ingredients'].str.replace('(\\d)', '', regex=True)\n",
    "recipe_test['ingredients'] = recipe_test['ingredients'].str.replace('(\\W)', ' ', regex=True)\n",
    "recipe_test['ingredients'] = recipe_test['ingredients'].str.replace('¼', '', regex=True) \n",
    "recipe_test['ingredients'] = recipe_test['ingredients'].str.replace('½', '', regex=True) \n",
    "\n",
    "recipe_test['ingredients'] = recipe_test['ingredients'].str.replace('¾', '', regex=True) \n",
    "recipe_test['ingredients'] = recipe_test['ingredients'].str.replace('⅓', '', regex=True) \n",
    "recipe_test['ingredients'] = recipe_test['ingredients'].str.replace('⅛', '', regex=True) \n",
    "recipe_test['ingredients'] = recipe_test['ingredients'].str.replace('⅔', '', regex=True) \n",
    "\n",
    "\n",
    "\n",
    "\n",
    "\n"
   ]
  },
  {
   "cell_type": "code",
   "execution_count": null,
   "id": "bbb53139",
   "metadata": {},
   "outputs": [],
   "source": [
    "recipe_test"
   ]
  },
  {
   "cell_type": "code",
   "execution_count": null,
   "id": "6f0a2205",
   "metadata": {
    "scrolled": true
   },
   "outputs": [],
   "source": [
    "list(recipe_test['ingredients'])"
   ]
  },
  {
   "cell_type": "code",
   "execution_count": null,
   "id": "e5c7ac61",
   "metadata": {},
   "outputs": [],
   "source": [
    "recipe_test['ingredients'].str.split('  ')"
   ]
  },
  {
   "cell_type": "code",
   "execution_count": null,
   "id": "15445533",
   "metadata": {},
   "outputs": [],
   "source": [
    "recipe_test['eggs'] = recipe_test['ingredients'].apply(lambda x: True if 'eggs' in x  else False)"
   ]
  },
  {
   "cell_type": "code",
   "execution_count": null,
   "id": "3ccfc773",
   "metadata": {},
   "outputs": [],
   "source": [
    "recipe_test"
   ]
  },
  {
   "cell_type": "code",
   "execution_count": null,
   "id": "e6559e23",
   "metadata": {},
   "outputs": [],
   "source": [
    "recipe_test['ingredients'][1]"
   ]
  },
  {
   "cell_type": "code",
   "execution_count": null,
   "id": "c5ba7ff6",
   "metadata": {},
   "outputs": [],
   "source": [
    "recipe_test"
   ]
  },
  {
   "cell_type": "code",
   "execution_count": null,
   "id": "7f4ca8c9",
   "metadata": {},
   "outputs": [],
   "source": [
    "ingredients = pd.DataFrame ({\n",
    "    'ingredient': ['chicken', 'milk', 'onion', 'steak', 'eggs']\n",
    "})\n",
    "\n",
    "ingredients"
   ]
  },
  {
   "cell_type": "code",
   "execution_count": null,
   "id": "47ffa995",
   "metadata": {},
   "outputs": [],
   "source": [
    "test_ingredients = ingredients.to_csv('../data/ingredient_test.csv')"
   ]
  },
  {
   "cell_type": "code",
   "execution_count": null,
   "id": "7a5e02e1",
   "metadata": {},
   "outputs": [],
   "source": [
    "test_recipes = recipe_test.to_csv('../data/test_recipes.csv')"
   ]
  },
  {
   "cell_type": "code",
   "execution_count": null,
   "id": "0d6b7664",
   "metadata": {},
   "outputs": [],
   "source": [
    "recipe_test"
   ]
  },
  {
   "cell_type": "code",
   "execution_count": null,
   "id": "459e347b",
   "metadata": {},
   "outputs": [],
   "source": []
  }
 ],
 "metadata": {
  "kernelspec": {
   "display_name": "Python 3 (ipykernel)",
   "language": "python",
   "name": "python3"
  },
  "language_info": {
   "codemirror_mode": {
    "name": "ipython",
    "version": 3
   },
   "file_extension": ".py",
   "mimetype": "text/x-python",
   "name": "python",
   "nbconvert_exporter": "python",
   "pygments_lexer": "ipython3",
   "version": "3.11.5"
  }
 },
 "nbformat": 4,
 "nbformat_minor": 5
}
